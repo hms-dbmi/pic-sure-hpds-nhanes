{
 "cells": [
  {
   "cell_type": "markdown",
   "metadata": {},
   "source": [
    "# Load all the necessary libraries, these should already be installed.\n",
    "\n",
    "### If you need additional libraries, add them to the dependencies.r files and rebuild the image\n"
   ]
  },
  {
   "cell_type": "code",
   "execution_count": null,
   "metadata": {
    "collapsed": false
   },
   "outputs": [],
   "source": [
    "library(knitr)\n",
    "library(plotly)\n",
    "library(httr)\n",
    "library(jsonlite)\n",
    "library(purrr)\n",
    "library(magrittr)\n",
    "library(GetoptLong)"
   ]
  },
  {
   "cell_type": "markdown",
   "metadata": {
    "collapsed": true
   },
   "source": [
    "# Functions that will eventually be in an R library and maintained alongside the API\n",
    "\n",
    "### This is PIC-SURE-HPDS specific code, the same functionality is available through PIC-SURE 2's HPDS resource, but this saves you the PIC-SURE ceremonial wrapping of JSON in more JSON.\n"
   ]
  },
  {
   "cell_type": "code",
   "execution_count": null,
   "metadata": {
    "collapsed": false
   },
   "outputs": [],
   "source": [
    "\n",
    "escapeSlashes <- function(field){\n",
    "    return (gsub(\"\\\\\", \"\\\\\\\\\", field, fixed=TRUE))\n",
    "}\n",
    "\n",
    "wrapInQuotes <- function(value){\n",
    "    return (paste('\"', escapeSlashes(value), '\"', sep=''))\n",
    "}\n",
    "\n",
    "numericFilter <- function(field, min, max){\n",
    "    field <- escapeSlashes(field)\n",
    "    return (qq('\"@{field}\":{\"min\":@{min},\"max\":@{max}}'))\n",
    "}\n",
    "\n",
    "categoryFilter <- function(field, categories){\n",
    "    field <- escapeSlashes(field)\n",
    "    categories <- paste(map(categories, wrapInQuotes), collapse=', ')\n",
    "    return (qq('\"@{field}\":[@{categories}]'))\n",
    "}\n",
    "\n",
    "\n",
    "dictionary <- function(query){\n",
    "    response <- POST(\"http://pic-sure-hpds-nhanes:8080/PIC-SURE/search/\", body=paste('{\"query\":\"',query,'\"}', sep=\"\"), content_type_json())\n",
    "    response\n",
    "    mergeCategoryValues <- function(entry){\n",
    "        entry$categoryValues\n",
    "        entry$categoryValues <- paste(entry$categoryValues, collapse=\", \")\n",
    "        return (entry)        \n",
    "    }\n",
    "    \n",
    "    return(map_df(content(response)$results, mergeCategoryValues))\n",
    "}    \n",
    "\n",
    "dictionaryFields <- function(query){\n",
    "    as.list(dictionary(query)$name)\n",
    "}\n",
    "\n",
    "query <- function(selectedFields = NULL, requiredFields = NULL, numericFilters = NULL, categoryFilters = NULL) {\n",
    "    fields <- function(selectedFields){\n",
    "        paste(map(selectedFields, wrapInQuotes), collapse=', ')\n",
    "    }\n",
    "\n",
    "    query <- qq(\n",
    "        '{\"fields\":[@{fields}],\n",
    "        \"requiredFields\":[@{requiredFields}],\n",
    "        \"numericFilters\":{@{numericFilters}},\n",
    "        \"categoryFilters\":{@{categoryFilters}}}', \n",
    "          envir = list(\n",
    "              fields = fields(selectedFields), \n",
    "              requiredFields = fields(requiredFields), \n",
    "              numericFilters = paste(numericFilters, sep=\",\"), \n",
    "              categoryFilters = paste(categoryFilters, sep=\",\")))\n",
    "    query\n",
    "    response <- POST(\"http://pic-sure-hpds-nhanes:8080/query\", body=query, content_type_json())\n",
    "    content(response)\n",
    "}\n",
    "\n",
    "getStatus <- function(queryId){\n",
    "    response <- GET(paste(\"http://pic-sure-hpds-nhanes:8080/query\", queryId, \"status\", sep=\"/\"))\n",
    "    content(response)\n",
    "}\n",
    "\n",
    "getResult <- function(queryId){\n",
    "    return(read.csv(paste(\"http://pic-sure-hpds-nhanes:8080/query\", queryId, \"result\", sep=\"/\")))\n",
    "}\n",
    "\n",
    "runQueryAndGetResult <- function(selectedFields = NULL, requiredFields = NULL, numericFilters = NULL, categoryFilters = NULL){\n",
    "    queryStatus <- query(selectedFields, requiredFields, numericFilters, categoryFilters)\n",
    "    while(queryStatus$status == \"RUNNING\" || queryStatus$status == \"PENDING\"){\n",
    "        Sys.sleep(.1)\n",
    "        queryStatus <- getStatus(queryStatus$id)\n",
    "    }\n",
    "    if(queryStatus$status == \"SUCCESS\" && queryStatus$numRows > 0){\n",
    "        print(paste(\n",
    "            queryStatus$numRows, \" rows and \", \n",
    "            queryStatus$numColumns, \" columns \", \n",
    "            \"completed in : \", (queryStatus$completedTime - queryStatus$queuedTime)/1000, \" seconds\", sep=\"\"))\n",
    "        return (getResult(queryStatus$id))\n",
    "    }else{\n",
    "        queryStatus\n",
    "    }\n",
    "}\n"
   ]
  },
  {
   "cell_type": "markdown",
   "metadata": {},
   "source": [
    "# Let's start by looking at the whole dictionary file\n",
    "\n",
    "## Notice that the important data is all here, if it's continuous we get min and max values, if it's categorical we get all the available categories for filtering. We also get a count of observations, at this point this is a patient count only because we haven't dealt with temporal relationships yet."
   ]
  },
  {
   "cell_type": "code",
   "execution_count": null,
   "metadata": {
    "collapsed": false
   },
   "outputs": [],
   "source": [
    "dictionary(\"demographics\")"
   ]
  },
  {
   "cell_type": "markdown",
   "metadata": {},
   "source": [
    "# Let's look at something more interesting... all variables related to \"blood\"\n"
   ]
  },
  {
   "cell_type": "code",
   "execution_count": null,
   "metadata": {
    "collapsed": false
   },
   "outputs": [],
   "source": [
    "dictionary(\"blood\")"
   ]
  },
  {
   "cell_type": "markdown",
   "metadata": {},
   "source": [
    "# OK, so how about all that data for \"blood\"? \n",
    "\n",
    "### Notice here we just pass the result of our dictionary search, but by using the convenient dictionaryFields function that handles escaping our terms for us and building a vector of fields. "
   ]
  },
  {
   "cell_type": "code",
   "execution_count": null,
   "metadata": {
    "collapsed": false
   },
   "outputs": [],
   "source": [
    "\n",
    "data = runQueryAndGetResult(dictionaryFields(\"blood\"))"
   ]
  },
  {
   "cell_type": "code",
   "execution_count": null,
   "metadata": {
    "collapsed": false
   },
   "outputs": [],
   "source": [
    "data"
   ]
  },
  {
   "cell_type": "markdown",
   "metadata": {},
   "source": [
    "# OK, so how about all that data for \"blood\" but only where patients have a Basophils percent? \n",
    "\n",
    "### Notice we are requiring patients to have all fields that match the search \"Basophils percent\". If we try this for the search term \"blood\" it will require all fields that have blood in their path, which matches no patients so we would get no results."
   ]
  },
  {
   "cell_type": "code",
   "execution_count": null,
   "metadata": {
    "collapsed": false
   },
   "outputs": [],
   "source": [
    "data = runQueryAndGetResult(selectedFields=dictionaryFields(\"blood\"), \n",
    "                     requiredFields=dictionaryFields(\"Basophils percent\"))\n"
   ]
  },
  {
   "cell_type": "code",
   "execution_count": null,
   "metadata": {
    "collapsed": false
   },
   "outputs": [],
   "source": [
    "data"
   ]
  },
  {
   "cell_type": "markdown",
   "metadata": {},
   "source": [
    "# Right... 33605 patients, let's try the same query, but only age 5-25"
   ]
  },
  {
   "cell_type": "code",
   "execution_count": null,
   "metadata": {
    "collapsed": false
   },
   "outputs": [],
   "source": [
    "numFilters <- c(numericFilter(\"\\\\demographics\\\\AGE\\\\\",5,25))\n",
    "data = runQueryAndGetResult(selectedFields=dictionaryFields(\"blood\"), \n",
    "                     requiredFields=dictionaryFields(\"Basophils percent\"), \n",
    "                     numericFilters=numFilters)"
   ]
  },
  {
   "cell_type": "code",
   "execution_count": null,
   "metadata": {
    "collapsed": false
   },
   "outputs": [],
   "source": [
    "data"
   ]
  },
  {
   "cell_type": "markdown",
   "metadata": {},
   "source": [
    "# This is better, what about only Male patients who are of white or mexican decent and we want to add all lab values?"
   ]
  },
  {
   "cell_type": "code",
   "execution_count": null,
   "metadata": {
    "collapsed": false
   },
   "outputs": [],
   "source": [
    "numFilters <- c(numericFilter(\"\\\\demographics\\\\AGE\\\\\",5,25))\n",
    "catFilters <- c(categoryFilter(\"\\\\demographics\\\\RACE\\\\\", c(\"white\", \"mexican\")))\n",
    "data = runQueryAndGetResult(selectedFields=union(dictionaryFields(\"laboratory\"), dictionaryFields(\"blood\")), \n",
    "                     requiredFields=dictionaryFields(\"Basophils percent\"), \n",
    "                     numericFilters=numFilters, categoryFilters=catFilters)"
   ]
  },
  {
   "cell_type": "code",
   "execution_count": null,
   "metadata": {
    "collapsed": false
   },
   "outputs": [],
   "source": [
    "data"
   ]
  },
  {
   "cell_type": "markdown",
   "metadata": {
    "collapsed": true
   },
   "source": [
    "# Now if we really just want all the data, we can do something like this"
   ]
  },
  {
   "cell_type": "code",
   "execution_count": null,
   "metadata": {
    "collapsed": false
   },
   "outputs": [],
   "source": [
    "data = runQueryAndGetResult(dictionaryFields(\"\"))"
   ]
  },
  {
   "cell_type": "code",
   "execution_count": null,
   "metadata": {
    "collapsed": false
   },
   "outputs": [],
   "source": [
    "data"
   ]
  },
  {
   "cell_type": "code",
   "execution_count": null,
   "metadata": {
    "collapsed": true
   },
   "outputs": [],
   "source": []
  },
  {
   "cell_type": "code",
   "execution_count": null,
   "metadata": {
    "collapsed": true
   },
   "outputs": [],
   "source": []
  },
  {
   "cell_type": "code",
   "execution_count": null,
   "metadata": {
    "collapsed": true
   },
   "outputs": [],
   "source": []
  },
  {
   "cell_type": "code",
   "execution_count": null,
   "metadata": {
    "collapsed": true
   },
   "outputs": [],
   "source": []
  },
  {
   "cell_type": "code",
   "execution_count": null,
   "metadata": {
    "collapsed": true
   },
   "outputs": [],
   "source": []
  },
  {
   "cell_type": "code",
   "execution_count": null,
   "metadata": {
    "collapsed": true
   },
   "outputs": [],
   "source": []
  }
 ],
 "metadata": {
  "kernelspec": {
   "display_name": "R",
   "language": "R",
   "name": "ir"
  },
  "language_info": {
   "codemirror_mode": "r",
   "file_extension": ".r",
   "mimetype": "text/x-r-source",
   "name": "R",
   "pygments_lexer": "r",
   "version": "3.3.1"
  }
 },
 "nbformat": 4,
 "nbformat_minor": 1
}
